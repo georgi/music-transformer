{
 "cells": [
  {
   "cell_type": "code",
   "execution_count": 3,
   "metadata": {},
   "outputs": [
    {
     "name": "stdout",
     "output_type": "stream",
     "text": [
      "Collecting midi-player\n",
      "  Downloading midi_player-0.5.1-py3-none-any.whl.metadata (2.2 kB)\n",
      "Downloading midi_player-0.5.1-py3-none-any.whl (6.4 kB)\n",
      "Installing collected packages: midi-player\n",
      "Successfully installed midi-player-0.5.1\n"
     ]
    }
   ],
   "source": [
    "!pip install midi-player"
   ]
  },
  {
   "cell_type": "code",
   "execution_count": 41,
   "metadata": {},
   "outputs": [],
   "source": [
    "from miditok import REMI, Structured, TokenizerConfig\n",
    "from miditok.utils import get_midi_programs\n",
    "from symusic import Score\n",
    "from pathlib import Path\n",
    "\n",
    "# midi_file = '/home/mm/midi/maestro/2018/MIDI-Unprocessed_Chamber3_MID--AUDIO_10_R3_2018_wav--1.midi'\n",
    "midi_file = 'lmd_matched/B/B/O/TRBBOFI128F4291250/bc8830293f19b2e3941ed0b2f8bd6f00.mid'\n",
    "score = Score(midi_file) \n",
    "\n",
    "config = TokenizerConfig(\n",
    "    use_programs=True, \n",
    "    use_time_signatures=True,\n",
    "    one_token_stream_for_programs=True\n",
    ")\n",
    "tokenizer = REMI(config)\n",
    "\n",
    "score = tokenizer(tokenizer(score))\n",
    "\n",
    "score.dump_midi(\"temp.mid\")"
   ]
  },
  {
   "cell_type": "code",
   "execution_count": 46,
   "metadata": {},
   "outputs": [
    {
     "data": {
      "text/plain": [
       "484"
      ]
     },
     "execution_count": 46,
     "metadata": {},
     "output_type": "execute_result"
    }
   ],
   "source": [
    "len(tokenizer.vocab)"
   ]
  },
  {
   "cell_type": "code",
   "execution_count": null,
   "metadata": {},
   "outputs": [],
   "source": [
    "from midi_player import MIDIPlayer\n",
    "from midi_player.stylers import basic, cifka_advanced\n",
    "\n",
    "MIDIPlayer(\"temp.mid\", 400)  \n",
    "# MIDIPlayer(midi_file, 160, styler=cifka_advanced, title='My Player')"
   ]
  },
  {
   "cell_type": "code",
   "execution_count": null,
   "metadata": {},
   "outputs": [],
   "source": [
    "\n",
    "# Constructs the vocabulary with BPE, from the tokenized files\n",
    "tokenizer.learn_bpe(\n",
    "    vocab_size=500,\n",
    "    tokens_paths=list(Path(\"/home/mm/midi/maestro_tokens/\").glob(\"**/*.json\")),\n",
    "    start_from_empty_voc=False,\n",
    ")\n",
    "\n",
    "# Saving our tokenizer, to retrieve it back later with the load_params method\n",
    "tokenizer.save_params(Path(\"../data/tokenizer_params.json\"))"
   ]
  },
  {
   "cell_type": "code",
   "execution_count": null,
   "metadata": {},
   "outputs": [],
   "source": [
    "!ls /home/mm/midi/maestro_tokens/"
   ]
  }
 ],
 "metadata": {
  "kernelspec": {
   "display_name": "Python 3 (ipykernel)",
   "language": "python",
   "name": "python3"
  },
  "language_info": {
   "codemirror_mode": {
    "name": "ipython",
    "version": 3
   },
   "file_extension": ".py",
   "mimetype": "text/x-python",
   "name": "python",
   "nbconvert_exporter": "python",
   "pygments_lexer": "ipython3",
   "version": "3.11.5"
  }
 },
 "nbformat": 4,
 "nbformat_minor": 4
}
