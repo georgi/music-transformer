import sys
import torch
import os

sys.path.append("../src")
from models.transformer_model import TransformerModel


get_ipython().getoutput("find ../logs/runs|grep ckpt|tail -n 3")


device = torch.device('cuda', 1)
# GPTNEO medium
# ckpt_path = os.getcwd() + '/../logs/runs/2021-10-02/20-25-56/checkpoints/epoch_026.ckpt'

# GPTNEO large
# ckpt_path = os.getcwd() + '/../logs/runs/2021-10-03/18-52-44/checkpoints/last.ckpt'

# Bach Finetune
# ckpt_path = os.getcwd() + '/../logs/runs/2021-10-04/21-32-24/checkpoints/epoch_042.ckpt'

ckpt_path = os.getcwd() + '/../logs/runs/2021-10-15/17-03-21/checkpoints/last.ckpt'

model = TransformerModel.load_from_checkpoint(ckpt_path, map_location=device).to(device)


from note_seq.notebook_utils import play_sequence, plot_sequence
from note_seq.midi_io import note_sequence_to_midi_file
import pretty_midi
from note_seq import fluidsynth
import utils
from note_seq.protobuf.music_pb2 import NoteSequence
from note_seq.chords_lib import (
    BasicChordRenderer
)

def render_chords(seq: NoteSequence) -> NoteSequence:
    chords = BasicChordRenderer(program=50, velocity=50)
    chords.render(seq)
    return seq


def to_ids(ns):
    return model.encoder.encode_note_sequence(ns)


def load_ids(f):
    ns = list(model.encoder.load_midi(f))
    if len(ns) == 0:
        return None
    return model.encoder.encode_note_sequence(ns[0])

def play_ids(ids):
    ns = model.encoder.decode_ids(ids)
    ns = render_chords(ns)
    play_sequence(ns, synth=fluidsynth)


def generate(seed, sample_len, **kwargs):
    input_ids = torch.tensor(seed).unsqueeze(0).to(device)
    gen_ids = model.transformer.generate(
        input_ids=input_ids,
        do_sample=True,
        max_length=sample_len,
        **kwargs
    ).tolist()[0]
    gen = model.encoder.decode_ids(gen_ids)
    note_sequence_to_midi_file(gen, "gen.midi")
    play_ids(gen_ids)


get_ipython().getoutput("find /home/mm/midi/maestro|head -n 10")


ids = load_ids("/home/mm/midi/maestro/2015/MIDI-Unprocessed_R2_D2-19-21-22_mid--AUDIO-from_mp3_19_R2_2015_wav--2.midi")


play_ids(ids[:256])


generate([1], 1024, top_p=0.99, temperature=0.98, top_k=30)


generate([1], 1024, top_p=0.99, temperature=0.98, top_k=30)


generate([1], 1024, top_p=0.99, temperature=0.98, top_k=30)





generate([1], 1024, top_p=0.99, temperature=0.98, top_k=30)


seed = [
    Event(Event.BAR),
    Event(Event.CHORD, midi_encoder.chord_encoding.encode_event("C")),
    Event(Event.TIME_SHIFT, 16),
    Event(Event.BAR),
    Event(Event.CHORD, midi_encoder.chord_encoding.encode_event("Am")),
    Event(Event.TIME_SHIFT, 16),
    Event(Event.BAR),
]
seed_ids = [midi_encoder.token_sos] + [
    midi_encoder.encoding.encode_event(e) + midi_encoder.num_reserved_ids
    for e in seed
]


generate(seed_ids, 128);


f = "/home/mm/midi/Beatles/Revolver/EleanorRigby.mid"
generate(load_ids(f)[:64], 128)


f = "../midi/Beatles/PastMasters1/FromMeToYou.mid"
generate(load_ids(f)[:32], 256)


play_ids(load_ids("/home/mm/midi/snes/CloudMan.mid"))


import note_seq
from preprocess import Event
from note_seq.sequences_lib import steps_per_bar_in_quantized_sequence
import torch.nn.functional as F
reload(preprocess)

midi_encoder = preprocess.MIDIMetricEncoder()

class SequenceGenerator:
    def __init__(self, model, device, max_seq, midi_encoder, seed):
        self.model = model
        self.device = device
        self.current_step = 0
        self.max_seq = max_seq
        self.events = []
        self.midi_encoder = midi_encoder
        self.steps_per_bar = int(steps_per_bar_in_quantized_sequence(seed))
        self.seed = midi_encoder.encode_note_sequence_to_events(seed)
        print("steps per bar", self.steps_per_bar)
 
    def append_event(self, event):
        if event.event_type == Event.TIME_SHIFT:
            for i in range(event.event_value):
                self.current_step += 1
                if self.current_step % self.steps_per_bar == 0:
                    # crossing a bar -> split up time shift 
                    self.events.append(Event(Event.TIME_SHIFT, i))
                    self.events.append(Event(Event.BAR))
                    if i < event.event_value:
                        self.events.append(Event(Event.TIME_SHIFT, event.event_value - i))
                    return
        if event.event_type != Event.BAR:
            self.events.append(event)

    def event_ids(self):
        return [self.midi_encoder.token_sos] + [
            self.midi_encoder.encoding.encode_event(event) + 
            self.midi_encoder.num_reserved_ids
            for event in self.events
        ]

    def gen_one_event(self, temperature=1.0, top_p=0.9, top_k=10):
        self.model.eval()
        x = torch.LongTensor(self.event_ids()).unsqueeze(0).to(self.device)
        logits = self.model(x)[0, -1, :]
        probs = F.softmax(logits / temperature, dim=-1)
        sorted_probs, sorted_indices = torch.sort(probs, descending=True)
        to_remove = torch.cumsum(sorted_probs, dim=-1) > top_p
        to_remove[0] = False  # always incude top result
        to_remove[top_k:] = True  # at most include top K results
        indices_to_remove = sorted_indices[to_remove]
        probs.scatter_(0, indices_to_remove, 0.0)
        c = torch.multinomial(probs, 1)
        e = self.midi_encoder.encoding.decode_event(c.item() - self.midi_encoder.num_reserved_ids)
        self.append_event(e)

    def seed_one_bar(self):
        start_step = self.current_step
        i = 0
        while self.current_step < self.steps_per_bar + start_step:
            self.events.append(self.seed[i])
            self.current_step += 1
            i += 1

    def gen_one_bar(self):
        start_step = self.current_step
        while self.current_step < start_step + self.steps_per_bar:
            self.gen_one_event()

    def to_sequence(self):
        ids = self.midi_encoder.encode_events(self.events)
        return self.midi_encoder.decode_ids(ids)


ns = midi_encoder.load_midi("/content/drive/MyDrive/midi/final_fantasy/ff1cast3.mid")
gen = SequenceGenerator(
    model=mt, 
    device=device, 
    max_seq=max_seq, 
    midi_encoder=midi_encoder,
    seed=ns[0]
)
# gen.seed_one_bar()
# gen.seed_one_bar()
# gen.seed_one_bar()
# gen.seed_one_bar()
gen.seed[:50]


gen.gen_one_bar()
# gen.events
# play_sequence(gen.to_sequence())


gen_dir = "/content/drive/MyDrive/gen/final_fantasy_bar_fixed_e600_t0.9"

get_ipython().getoutput("mkdir -p $gen_dir")

for f in os.listdir(midi_dir):
    print(f)
    midi_file = os.path.join(midi_dir, f)
    gen_file = os.path.join(gen_dir, f)
    seed = load_ids(midi_file)
    if seed is None:
        continue
    gen_ids = utils.sample(
        model=mt, 
        sample_length=512, 
        prime_sequence=seed[:200], 
        device=device, 
        top_p=0.9
    )
    gen = midi_encoder.decode_ids(gen_ids)
    # play_sequence(gen, synth=fluidsynth)
    note_sequence_to_midi_file(gen, gen_file)



